{
 "cells": [
  {
   "cell_type": "markdown",
   "metadata": {},
   "source": [
    "# The machine learning process\n",
    "## Formulating a Question\n",
    "The task of the ML model should be specific and measurable, otherwise the creator will not have a precise vision according which to design the model, nor will they know if they have succeeded in building what was intended.  \n",
    "\n",
    "## Finding and Understanding the Data\n",
    "Data processing is the most time consuming step in the process. Collecting the data and transforming it into the necessary form for the model is cumbersome. After the being collected and organised, you must examine the data for its statistical features and relationships in order to ascertain the best model for the problem and the realistic level of success to expect. Visualling the data is helpful in conjuction with summary statistics. \n",
    "\n",
    "## Cleaning the Data and Feature Engineering\n",
    "This step involves addressing missing entries, processing columns into the necessary form, identifying and investigating outliers, and feature engineering. Cleaning the data also involves processes such as normilisation and augmentation.\n",
    "\n",
    "## Choosing a Model\n",
    "Once the problem and available data is understood, we select the appropriate model by also considering what the disired output will be. \n",
    "\n",
    "## Tuning and Evaluating\n",
    "There are many parameters that need to be chosen, and tuning them for the best combination of precision and accuracy is essential.  \n",
    "\n",
    "## Using the Model and Presenting Results\n",
    "The completed model is ready to be integrated. The utility of ML is that it can apprehend complex relationships, so assessing the output of your model and how it works can uncover insight the raw data was hiding. "
   ]
  }
 ],
 "metadata": {
  "kernelspec": {
   "display_name": "Python 3",
   "language": "python",
   "name": "python3"
  },
  "language_info": {
   "codemirror_mode": {
    "name": "ipython",
    "version": 3
   },
   "file_extension": ".py",
   "mimetype": "text/x-python",
   "name": "python",
   "nbconvert_exporter": "python",
   "pygments_lexer": "ipython3",
   "version": "3.7.6"
  }
 },
 "nbformat": 4,
 "nbformat_minor": 4
}
